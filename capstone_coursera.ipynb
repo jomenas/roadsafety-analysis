{
    "cells": [
        {
            "cell_type": "markdown",
            "metadata": {},
            "source": "# Car accidents and the weather"
        },
        {
            "cell_type": "markdown",
            "metadata": {},
            "source": "First, Folium is installed in order to produce maps"
        },
        {
            "cell_type": "code",
            "execution_count": 4,
            "metadata": {},
            "outputs": [
                {
                    "name": "stdout",
                    "output_type": "stream",
                    "text": "Collecting foliumNote: you may need to restart the kernel to use updated packages.\n\n  Downloading folium-0.11.0-py2.py3-none-any.whl (93 kB)\nRequirement already satisfied: jinja2>=2.9 in c:\\users\\joma_\\anaconda3\\lib\\site-packages (from folium) (2.11.2)\nRequirement already satisfied: requests in c:\\users\\joma_\\anaconda3\\lib\\site-packages (from folium) (2.24.0)\nRequirement already satisfied: numpy in c:\\users\\joma_\\anaconda3\\lib\\site-packages (from folium) (1.18.5)\nCollecting branca>=0.3.0\n  Downloading branca-0.4.1-py3-none-any.whl (24 kB)\nRequirement already satisfied: MarkupSafe>=0.23 in c:\\users\\joma_\\anaconda3\\lib\\site-packages (from jinja2>=2.9->folium) (1.1.1)\nRequirement already satisfied: certifi>=2017.4.17 in c:\\users\\joma_\\anaconda3\\lib\\site-packages (from requests->folium) (2020.6.20)\nRequirement already satisfied: idna<3,>=2.5 in c:\\users\\joma_\\anaconda3\\lib\\site-packages (from requests->folium) (2.10)\nRequirement already satisfied: chardet<4,>=3.0.2 in c:\\users\\joma_\\anaconda3\\lib\\site-packages (from requests->folium) (3.0.4)\nRequirement already satisfied: urllib3!=1.25.0,!=1.25.1,<1.26,>=1.21.1 in c:\\users\\joma_\\anaconda3\\lib\\site-packages (from requests->folium) (1.25.9)\nInstalling collected packages: branca, folium\nSuccessfully installed branca-0.4.1 folium-0.11.0\n"
                }
            ],
            "source": "pip install folium"
        },
        {
            "cell_type": "markdown",
            "metadata": {},
            "source": "Import all necessary libraries"
        },
        {
            "cell_type": "code",
            "execution_count": 1,
            "metadata": {},
            "outputs": [],
            "source": "import folium\nimport pandas as pd\nimport numpy as np\nimport seaborn as sns\nimport matplotlib.pyplot as plt"
        },
        {
            "cell_type": "markdown",
            "metadata": {},
            "source": "Produce a map of Seatle, Washington"
        },
        {
            "cell_type": "code",
            "execution_count": 2,
            "metadata": {
                "scrolled": true
            },
            "outputs": [
                {
                    "data": {
                        "text/html": "<div style=\"width:100%;\"><div style=\"position:relative;width:100%;height:0;padding-bottom:60%;\"><span style=\"color:#565656\">Make this Notebook Trusted to load map: File -> Trust Notebook</span><iframe src=\"about:blank\" style=\"position:absolute;width:100%;height:100%;left:0;top:0;border:none !important;\" data-html=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 onload=\"this.contentDocument.open();this.contentDocument.write(atob(this.getAttribute('data-html')));this.contentDocument.close();\" allowfullscreen webkitallowfullscreen mozallowfullscreen></iframe></div></div>",
                        "text/plain": "<folium.folium.Map at 0x22c0af4c160>"
                    },
                    "execution_count": 2,
                    "metadata": {},
                    "output_type": "execute_result"
                }
            ],
            "source": "map=map_seat= folium.Map(location=[47.6080, -122.3351], zoom_start=11,tiles='Stamen Terrain')\nmap"
        },
        {
            "cell_type": "markdown",
            "metadata": {},
            "source": "Now, we load the data about car accidents in Seatle to a dataframe called df_accidents"
        },
        {
            "cell_type": "code",
            "execution_count": 4,
            "metadata": {
                "scrolled": true
            },
            "outputs": [
                {
                    "data": {
                        "text/html": "<div>\n<style scoped>\n    .dataframe tbody tr th:only-of-type {\n        vertical-align: middle;\n    }\n\n    .dataframe tbody tr th {\n        vertical-align: top;\n    }\n\n    .dataframe thead th {\n        text-align: right;\n    }\n</style>\n<table border=\"1\" class=\"dataframe\">\n  <thead>\n    <tr style=\"text-align: right;\">\n      <th></th>\n      <th>SEVERITYCODE</th>\n      <th>X</th>\n      <th>Y</th>\n      <th>OBJECTID</th>\n      <th>INCKEY</th>\n      <th>COLDETKEY</th>\n      <th>REPORTNO</th>\n      <th>STATUS</th>\n      <th>ADDRTYPE</th>\n      <th>INTKEY</th>\n      <th>...</th>\n      <th>ROADCOND</th>\n      <th>LIGHTCOND</th>\n      <th>PEDROWNOTGRNT</th>\n      <th>SDOTCOLNUM</th>\n      <th>SPEEDING</th>\n      <th>ST_COLCODE</th>\n      <th>ST_COLDESC</th>\n      <th>SEGLANEKEY</th>\n      <th>CROSSWALKKEY</th>\n      <th>HITPARKEDCAR</th>\n    </tr>\n  </thead>\n  <tbody>\n    <tr>\n      <th>0</th>\n      <td>2</td>\n      <td>-122.323148</td>\n      <td>47.703140</td>\n      <td>1</td>\n      <td>1307</td>\n      <td>1307</td>\n      <td>3502005</td>\n      <td>Matched</td>\n      <td>Intersection</td>\n      <td>37475.0</td>\n      <td>...</td>\n      <td>Wet</td>\n      <td>Daylight</td>\n      <td>NaN</td>\n      <td>NaN</td>\n      <td>NaN</td>\n      <td>10</td>\n      <td>Entering at angle</td>\n      <td>0</td>\n      <td>0</td>\n      <td>N</td>\n    </tr>\n    <tr>\n      <th>1</th>\n      <td>1</td>\n      <td>-122.347294</td>\n      <td>47.647172</td>\n      <td>2</td>\n      <td>52200</td>\n      <td>52200</td>\n      <td>2607959</td>\n      <td>Matched</td>\n      <td>Block</td>\n      <td>NaN</td>\n      <td>...</td>\n      <td>Wet</td>\n      <td>Dark - Street Lights On</td>\n      <td>NaN</td>\n      <td>6354039.0</td>\n      <td>NaN</td>\n      <td>11</td>\n      <td>From same direction - both going straight - bo...</td>\n      <td>0</td>\n      <td>0</td>\n      <td>N</td>\n    </tr>\n    <tr>\n      <th>2</th>\n      <td>1</td>\n      <td>-122.334540</td>\n      <td>47.607871</td>\n      <td>3</td>\n      <td>26700</td>\n      <td>26700</td>\n      <td>1482393</td>\n      <td>Matched</td>\n      <td>Block</td>\n      <td>NaN</td>\n      <td>...</td>\n      <td>Dry</td>\n      <td>Daylight</td>\n      <td>NaN</td>\n      <td>4323031.0</td>\n      <td>NaN</td>\n      <td>32</td>\n      <td>One parked--one moving</td>\n      <td>0</td>\n      <td>0</td>\n      <td>N</td>\n    </tr>\n    <tr>\n      <th>3</th>\n      <td>1</td>\n      <td>-122.334803</td>\n      <td>47.604803</td>\n      <td>4</td>\n      <td>1144</td>\n      <td>1144</td>\n      <td>3503937</td>\n      <td>Matched</td>\n      <td>Block</td>\n      <td>NaN</td>\n      <td>...</td>\n      <td>Dry</td>\n      <td>Daylight</td>\n      <td>NaN</td>\n      <td>NaN</td>\n      <td>NaN</td>\n      <td>23</td>\n      <td>From same direction - all others</td>\n      <td>0</td>\n      <td>0</td>\n      <td>N</td>\n    </tr>\n    <tr>\n      <th>4</th>\n      <td>2</td>\n      <td>-122.306426</td>\n      <td>47.545739</td>\n      <td>5</td>\n      <td>17700</td>\n      <td>17700</td>\n      <td>1807429</td>\n      <td>Matched</td>\n      <td>Intersection</td>\n      <td>34387.0</td>\n      <td>...</td>\n      <td>Wet</td>\n      <td>Daylight</td>\n      <td>NaN</td>\n      <td>4028032.0</td>\n      <td>NaN</td>\n      <td>10</td>\n      <td>Entering at angle</td>\n      <td>0</td>\n      <td>0</td>\n      <td>N</td>\n    </tr>\n  </tbody>\n</table>\n<p>5 rows \u00d7 38 columns</p>\n</div>",
                        "text/plain": "   SEVERITYCODE           X          Y  OBJECTID  INCKEY  COLDETKEY REPORTNO  \\\n0             2 -122.323148  47.703140         1    1307       1307  3502005   \n1             1 -122.347294  47.647172         2   52200      52200  2607959   \n2             1 -122.334540  47.607871         3   26700      26700  1482393   \n3             1 -122.334803  47.604803         4    1144       1144  3503937   \n4             2 -122.306426  47.545739         5   17700      17700  1807429   \n\n    STATUS      ADDRTYPE   INTKEY  ... ROADCOND                LIGHTCOND  \\\n0  Matched  Intersection  37475.0  ...      Wet                 Daylight   \n1  Matched         Block      NaN  ...      Wet  Dark - Street Lights On   \n2  Matched         Block      NaN  ...      Dry                 Daylight   \n3  Matched         Block      NaN  ...      Dry                 Daylight   \n4  Matched  Intersection  34387.0  ...      Wet                 Daylight   \n\n  PEDROWNOTGRNT  SDOTCOLNUM SPEEDING ST_COLCODE  \\\n0           NaN         NaN      NaN         10   \n1           NaN   6354039.0      NaN         11   \n2           NaN   4323031.0      NaN         32   \n3           NaN         NaN      NaN         23   \n4           NaN   4028032.0      NaN         10   \n\n                                          ST_COLDESC  SEGLANEKEY  \\\n0                                  Entering at angle           0   \n1  From same direction - both going straight - bo...           0   \n2                             One parked--one moving           0   \n3                   From same direction - all others           0   \n4                                  Entering at angle           0   \n\n   CROSSWALKKEY  HITPARKEDCAR  \n0             0             N  \n1             0             N  \n2             0             N  \n3             0             N  \n4             0             N  \n\n[5 rows x 38 columns]"
                    },
                    "execution_count": 4,
                    "metadata": {},
                    "output_type": "execute_result"
                }
            ],
            "source": "df_accidents=pd.read_csv('Data-Collisions.csv',low_memory=False, parse_dates=['INCDATE','INCDTTM'] )\ndf_accidents.head()"
        },
        {
            "cell_type": "markdown",
            "metadata": {},
            "source": "The dataframe contains 38 columns, not all of them will be used for the analysis so, a new dataframe called df_usefull is produced with the variables neeeded for this study."
        },
        {
            "cell_type": "code",
            "execution_count": 5,
            "metadata": {},
            "outputs": [],
            "source": "#Here we create a dataframe witht the needed variables ony\ndf_usefull=df_accidents[['SEVERITYCODE','Y', 'X','ADDRTYPE','SEVERITYDESC','COLLISIONTYPE','INCDATE','SDOT_COLCODE','INATTENTIONIND','UNDERINFL','WEATHER','ROADCOND','LIGHTCOND']]"
        },
        {
            "cell_type": "markdown",
            "metadata": {},
            "source": "Graph of the percentage of accidents with severitycode=2 aat different weather conditions. "
        },
        {
            "cell_type": "code",
            "execution_count": 6,
            "metadata": {},
            "outputs": [
                {
                    "data": {
                        "image/png": "[encoded data removed]",
                        "text/plain": "<Figure size 432x288 with 1 Axes>"
                    },
                    "metadata": {
                        "needs_background": "light"
                    },
                    "output_type": "display_data"
                }
            ],
            "source": "p=df_usefull.groupby(['SEVERITYCODE'])['WEATHER'].value_counts(normalize=True)\nfig = plt.figure()\nax=fig.add_axes([0,0,1,1])\nx1=['Clear','Raining','Over','Unknown','Snow','Other','Fog','Sleet','Sand ','Crosswind ']\ny1=p.values[11:21]*100#[63,23,10,0.7,0.6,0.06,0.06,0.03,0.03]\nax.bar(x1,y1)\nax.set_ylabel('Percentage %')\nax.set_title('Weather conditions for severe accidents')\nplt.show()\n"
        },
        {
            "cell_type": "markdown",
            "metadata": {},
            "source": "Most accidents happened with clear weather. The top three weather conditions were Clear, Raining and Overcast\nNow, let's see the road conditions when the accidents happened."
        },
        {
            "cell_type": "code",
            "execution_count": 7,
            "metadata": {},
            "outputs": [
                {
                    "data": {
                        "image/png": "[encoded data removed]",
                        "text/plain": "<Figure size 432x288 with 1 Axes>"
                    },
                    "metadata": {
                        "needs_background": "light"
                    },
                    "output_type": "display_data"
                }
            ],
            "source": "p1=df_usefull.groupby(['SEVERITYCODE'])['ROADCOND'].value_counts(normalize=True)\nfig = plt.figure()\nax=fig.add_axes([0,0,1,1])\nx2=['Dry','Wet','Unknown','Ice','Snow','Other','Water','Sand','Oil']\ny2=p1.values[9:18]*100#[63,23,10,0.7,0.6,0.06,0.06,0.03,0.03]\nax.bar(x2,y2)\nax.set_ylabel('Percentage %')\nax.set_title('Road Conditions for severe accidents')\nplt.show()"
        },
        {
            "cell_type": "markdown",
            "metadata": {},
            "source": "Most accidents happened when the road was dry, Top 3 road conditions causing severe accidents: Dry, Wet and Ice\nNow let's look into the human factors of inattention and driving under the influence of substances"
        },
        {
            "cell_type": "code",
            "execution_count": 8,
            "metadata": {},
            "outputs": [
                {
                    "data": {
                        "text/plain": "INATTENTIONIND  SEVERITYCODE\nY               1               0.651166\n                2               0.348834\nName: SEVERITYCODE, dtype: float64"
                    },
                    "execution_count": 8,
                    "metadata": {},
                    "output_type": "execute_result"
                }
            ],
            "source": "df_usefull.groupby(['INATTENTIONIND'])['SEVERITYCODE'].value_counts(normalize=True)"
        },
        {
            "cell_type": "markdown",
            "metadata": {},
            "source": "65% of accidents caused because of driver's inattention were not severe (SEVERITYCODE==1) while only 35% were severe. Now let's look at under the influence"
        },
        {
            "cell_type": "code",
            "execution_count": 9,
            "metadata": {},
            "outputs": [
                {
                    "data": {
                        "text/plain": "UNDERINFL  SEVERITYCODE\n0          1               0.717628\n           2               0.282372\n1          1               0.593742\n           2               0.406258\nN          1               0.691884\n           2               0.308116\nY          1               0.621732\n           2               0.378268\nName: SEVERITYCODE, dtype: float64"
                    },
                    "execution_count": 9,
                    "metadata": {},
                    "output_type": "execute_result"
                }
            ],
            "source": "df_usefull.groupby(['UNDERINFL'])['SEVERITYCODE'].value_counts(normalize=True)"
        },
        {
            "cell_type": "markdown",
            "metadata": {},
            "source": "37% of accidents where the driver was under the influence of substances, had severity code 2\nLet's explore more relations between the variables:"
        },
        {
            "cell_type": "code",
            "execution_count": 10,
            "metadata": {},
            "outputs": [
                {
                    "data": {
                        "image/png": "[encoded data removed]",
                        "text/plain": "<Figure size 432x288 with 1 Axes>"
                    },
                    "metadata": {
                        "needs_background": "light"
                    },
                    "output_type": "display_data"
                }
            ],
            "source": "p2=df_usefull.groupby(['INATTENTIONIND'])['WEATHER'].value_counts(normalize=True)\nfig = plt.figure()\nax=fig.add_axes([0,0,1,1])\nx3=['Clear','Raining','Overcast','Ukw','Fog','Other','Snowing','Sleet','Blowing','Xwind']\ny3=p2.values*100\nax.bar(x3,y3)\nax.set_ylabel('Percentage %')\nax.set_title('Inattention and weather')\nplt.show()"
        },
        {
            "cell_type": "markdown",
            "metadata": {},
            "source": "More than 60% of accidents due to driver inattention happened with clear weather. The top three weather conditions when accidents due to driver inattention happened were Clear, Raining and Overcast. \n"
        },
        {
            "cell_type": "code",
            "execution_count": 11,
            "metadata": {},
            "outputs": [
                {
                    "data": {
                        "image/png": "[encoded data removed]",
                        "text/plain": "<Figure size 432x288 with 1 Axes>"
                    },
                    "metadata": {
                        "needs_background": "light"
                    },
                    "output_type": "display_data"
                }
            ],
            "source": "#df_usefull['UNDERINFL'].fillna(0,inplace=True)\n#df_usefull['UNDERINFL'].replace(to_replace=['Y','N','0'], value=[1,2,2], inplace=True)\n#df_usefull['UNDERINFL']=df_usefull['UNDERINFL'].astype(int)\np3=df_usefull.groupby(['UNDERINFL'])['WEATHER'].value_counts(normalize=True)\nfig = plt.figure()\nax=fig.add_axes([0,0,1,1])\nx4=['Clear','Raining','Overcast','Ukw','Fog','Other','Snowing','Sleet','Blowing','Xwind']\ny4=p3.values[0:10]*100\nax.bar(x4,y4)\nax.set_ylabel('Percentage %')\nax.set_title('Under the influence and weather')\nplt.show()\n"
        },
        {
            "cell_type": "code",
            "execution_count": 12,
            "metadata": {},
            "outputs": [
                {
                    "name": "stdout",
                    "output_type": "stream",
                    "text": "full dataframe Index(['SEVERITYCODE', 'X', 'Y', 'OBJECTID', 'INCKEY', 'COLDETKEY', 'REPORTNO',\n       'STATUS', 'ADDRTYPE', 'INTKEY', 'LOCATION', 'EXCEPTRSNCODE',\n       'EXCEPTRSNDESC', 'SEVERITYCODE.1', 'SEVERITYDESC', 'COLLISIONTYPE',\n       'PERSONCOUNT', 'PEDCOUNT', 'PEDCYLCOUNT', 'VEHCOUNT', 'INCDATE',\n       'INCDTTM', 'JUNCTIONTYPE', 'SDOT_COLCODE', 'SDOT_COLDESC',\n       'INATTENTIONIND', 'UNDERINFL', 'WEATHER', 'ROADCOND', 'LIGHTCOND',\n       'PEDROWNOTGRNT', 'SDOTCOLNUM', 'SPEEDING', 'ST_COLCODE', 'ST_COLDESC',\n       'SEGLANEKEY', 'CROSSWALKKEY', 'HITPARKEDCAR'],\n      dtype='object')\nReduced dataframe Index(['SEVERITYCODE', 'Y', 'X', 'ADDRTYPE', 'SEVERITYDESC', 'COLLISIONTYPE',\n       'INCDATE', 'SDOT_COLCODE', 'INATTENTIONIND', 'UNDERINFL', 'WEATHER',\n       'ROADCOND', 'LIGHTCOND'],\n      dtype='object')\n"
                }
            ],
            "source": "#just to see how the dataframes were reduced, first print the columns of df_accidents and then the columns of df_useful\nprint('full dataframe', df_accidents.columns)\nprint('Reduced dataframe',df_usefull.columns)"
        },
        {
            "cell_type": "markdown",
            "metadata": {},
            "source": "All categorical values are converted to numerical values.\n"
        },
        {
            "cell_type": "code",
            "execution_count": 14,
            "metadata": {},
            "outputs": [
                {
                    "name": "stderr",
                    "output_type": "stream",
                    "text": "C:\\Users\\joma_\\anaconda3\\lib\\site-packages\\pandas\\core\\generic.py:6746: SettingWithCopyWarning: \nA value is trying to be set on a copy of a slice from a DataFrame\n\nSee the caveats in the documentation: https://pandas.pydata.org/pandas-docs/stable/user_guide/indexing.html#returning-a-view-versus-a-copy\n  self._update_inplace(new_data)\nC:\\Users\\joma_\\anaconda3\\lib\\site-packages\\pandas\\core\\generic.py:6245: SettingWithCopyWarning: \nA value is trying to be set on a copy of a slice from a DataFrame\n\nSee the caveats in the documentation: https://pandas.pydata.org/pandas-docs/stable/user_guide/indexing.html#returning-a-view-versus-a-copy\n  self._update_inplace(new_data)\n<ipython-input-14-d9fc16a3c82a>:4: SettingWithCopyWarning: \nA value is trying to be set on a copy of a slice from a DataFrame.\nTry using .loc[row_indexer,col_indexer] = value instead\n\nSee the caveats in the documentation: https://pandas.pydata.org/pandas-docs/stable/user_guide/indexing.html#returning-a-view-versus-a-copy\n  df_usefull['LIGHTCOND']=df_usefull['LIGHTCOND'].astype(int)\n<ipython-input-14-d9fc16a3c82a>:7: SettingWithCopyWarning: \nA value is trying to be set on a copy of a slice from a DataFrame.\nTry using .loc[row_indexer,col_indexer] = value instead\n\nSee the caveats in the documentation: https://pandas.pydata.org/pandas-docs/stable/user_guide/indexing.html#returning-a-view-versus-a-copy\n  df_usefull['ROADCOND']=df_usefull['ROADCOND'].astype(int)\n<ipython-input-14-d9fc16a3c82a>:10: SettingWithCopyWarning: \nA value is trying to be set on a copy of a slice from a DataFrame.\nTry using .loc[row_indexer,col_indexer] = value instead\n\nSee the caveats in the documentation: https://pandas.pydata.org/pandas-docs/stable/user_guide/indexing.html#returning-a-view-versus-a-copy\n  df_usefull['WEATHER']=df_usefull['WEATHER'].astype(int)\n<ipython-input-14-d9fc16a3c82a>:13: SettingWithCopyWarning: \nA value is trying to be set on a copy of a slice from a DataFrame.\nTry using .loc[row_indexer,col_indexer] = value instead\n\nSee the caveats in the documentation: https://pandas.pydata.org/pandas-docs/stable/user_guide/indexing.html#returning-a-view-versus-a-copy\n  df_usefull['UNDERINFL']=df_usefull['UNDERINFL'].astype(int)\n<ipython-input-14-d9fc16a3c82a>:16: SettingWithCopyWarning: \nA value is trying to be set on a copy of a slice from a DataFrame.\nTry using .loc[row_indexer,col_indexer] = value instead\n\nSee the caveats in the documentation: https://pandas.pydata.org/pandas-docs/stable/user_guide/indexing.html#returning-a-view-versus-a-copy\n  df_usefull['INATTENTIONIND']=df_usefull['INATTENTIONIND'].astype(int)\n"
                },
                {
                    "data": {
                        "text/plain": "SEVERITYCODE                    int64\nY                             float64\nX                             float64\nADDRTYPE                       object\nSEVERITYDESC                   object\nCOLLISIONTYPE                  object\nINCDATE           datetime64[ns, UTC]\nSDOT_COLCODE                    int64\nINATTENTIONIND                  int32\nUNDERINFL                       int32\nWEATHER                         int32\nROADCOND                        int32\nLIGHTCOND                       int32\ndtype: object"
                    },
                    "execution_count": 14,
                    "metadata": {},
                    "output_type": "execute_result"
                }
            ],
            "source": "df_usefull['LIGHTCOND'].replace(to_replace=['Dark - No Street Lights','Dark - Street Lights Off','Dark - Street Lights On',\n                                                'Dark - Unknown Lighting', 'Dawn','Daylight','Dusk','Other','Unknown'], value=[1,2,3,4,5,6,7,0,0], inplace=True)\ndf_usefull['LIGHTCOND'].fillna(0,inplace=True)\ndf_usefull['LIGHTCOND']=df_usefull['LIGHTCOND'].astype(int)\ndf_usefull['ROADCOND'].replace(to_replace=['Dry','Ice','Oil','Other','Sand/Mud/Dirt','Snow/Slush','Standing Water','Unknown','Wet'], value=[1,2,3,0,4,5,6,0,7],inplace=True)\ndf_usefull['ROADCOND'].fillna(0,inplace=True)\ndf_usefull['ROADCOND']=df_usefull['ROADCOND'].astype(int)\ndf_usefull['WEATHER'].replace(to_replace=['Blowing Sand/Dirt','Clear','Fog/Smog/Smoke','Other','Overcast','Partly Cloudy','Raining','Severe Crosswind','Sleet/Hail/Freezing Rain','Snowing','Unknown'], value=[1,2,3,0,4,5,6,7,8,9,0],inplace=True)\ndf_usefull['WEATHER'].fillna(0,inplace=True)\ndf_usefull['WEATHER']=df_usefull['WEATHER'].astype(int)\ndf_usefull['UNDERINFL'].replace(to_replace=['Y','N','0'], value=[1,2,2], inplace=True)\ndf_usefull['UNDERINFL'].fillna(0,inplace=True)\ndf_usefull['UNDERINFL']=df_usefull['UNDERINFL'].astype(int)\ndf_usefull['INATTENTIONIND'].replace(to_replace=['Y','N'], value=[1,0], inplace=True)\ndf_usefull['INATTENTIONIND'].fillna(0, inplace=True)\ndf_usefull['INATTENTIONIND']=df_usefull['INATTENTIONIND'].astype(int)\ndf_usefull.dtypes"
        },
        {
            "cell_type": "markdown",
            "metadata": {},
            "source": "We investigate the relation between inattention and the weather"
        },
        {
            "cell_type": "code",
            "execution_count": 16,
            "metadata": {},
            "outputs": [
                {
                    "data": {
                        "text/plain": "INATTENTIONIND  WEATHER\n0               2          0.556918\n                6          0.171713\n                4          0.140167\n                0          0.122110\n                9          0.005168\n                3          0.002820\n                8          0.000637\n                1          0.000309\n                7          0.000127\n                5          0.000030\n1               2          0.648113\n                6          0.162221\n                4          0.154504\n                0          0.029257\n                3          0.003489\n                9          0.001845\n                8          0.000268\n                1          0.000168\n                7          0.000134\nName: WEATHER, dtype: float64"
                    },
                    "execution_count": 16,
                    "metadata": {},
                    "output_type": "execute_result"
                }
            ],
            "source": "df_usefull.groupby(['INATTENTIONIND'])['WEATHER'].value_counts(normalize=True)"
        },
        {
            "cell_type": "markdown",
            "metadata": {},
            "source": "we investigate the realation between underinfl and weather\n\n"
        },
        {
            "cell_type": "code",
            "execution_count": 17,
            "metadata": {},
            "outputs": [
                {
                    "data": {
                        "text/plain": "UNDERINFL  WEATHER\n0          0          1.000000\n1          2          0.634031\n           6          0.197785\n           4          0.151299\n           0          0.007236\n           3          0.005043\n           9          0.003837\n           8          0.000439\n           7          0.000219\n           1          0.000110\n2          2          0.583125\n           6          0.173473\n           4          0.145759\n           0          0.088859\n           9          0.004827\n           3          0.002895\n           8          0.000603\n           1          0.000304\n           7          0.000127\n           5          0.000028\nName: WEATHER, dtype: float64"
                    },
                    "execution_count": 17,
                    "metadata": {},
                    "output_type": "execute_result"
                }
            ],
            "source": "df_usefull.groupby(['UNDERINFL'])['WEATHER'].value_counts(normalize=True)"
        },
        {
            "cell_type": "code",
            "execution_count": 18,
            "metadata": {},
            "outputs": [
                {
                    "data": {
                        "text/plain": "LIGHTCOND  WEATHER\n0          0          0.852474\n           2          0.094978\n           6          0.023943\n           4          0.023308\n           9          0.004185\n                        ...   \n7          9          0.003728\n           3          0.001017\n           1          0.000339\n           8          0.000339\n           7          0.000169\nName: WEATHER, Length: 68, dtype: float64"
                    },
                    "execution_count": 18,
                    "metadata": {},
                    "output_type": "execute_result"
                }
            ],
            "source": "df_usefull.groupby(['LIGHTCOND'])['WEATHER'].value_counts(normalize=True)"
        },
        {
            "cell_type": "code",
            "execution_count": 19,
            "metadata": {},
            "outputs": [
                {
                    "data": {
                        "text/plain": "ROADCOND  WEATHER\n0         0          0.947433\n          2          0.029374\n          4          0.019434\n          6          0.002522\n          3          0.000445\n          9          0.000445\n          1          0.000198\n          8          0.000148\n1         2          0.852510\n          4          0.129957\n          0          0.008899\n          6          0.005148\n          3          0.002875\n          1          0.000257\n          9          0.000193\n          7          0.000080\n          8          0.000048\n          5          0.000032\n2         2          0.531017\n          4          0.186104\n          9          0.139785\n          0          0.079404\n          3          0.028950\n          8          0.014888\n          6          0.011580\n          1          0.005790\n          7          0.002481\n3         6          0.515625\n          2          0.296875\n          4          0.125000\n          0          0.062500\n4         2          0.440000\n          4          0.226667\n          6          0.146667\n          0          0.133333\n          3          0.026667\n          9          0.026667\n5         9          0.545817\n          4          0.132470\n          0          0.101594\n          2          0.094622\n          6          0.091633\n          8          0.026892\n          1          0.004980\n          3          0.001992\n6         6          0.791304\n          0          0.060870\n          2          0.060870\n          4          0.060870\n          8          0.026087\n7         6          0.678519\n          4          0.226440\n          2          0.075810\n          0          0.010911\n          3          0.003433\n          9          0.003265\n          8          0.001180\n          7          0.000253\n          1          0.000169\n          5          0.000021\nName: WEATHER, dtype: float64"
                    },
                    "execution_count": 19,
                    "metadata": {},
                    "output_type": "execute_result"
                }
            ],
            "source": "df_usefull.groupby(['ROADCOND'])['WEATHER'].value_counts(normalize=True)"
        },
        {
            "cell_type": "markdown",
            "metadata": {},
            "source": "Feature Selection"
        },
        {
            "cell_type": "code",
            "execution_count": 20,
            "metadata": {},
            "outputs": [],
            "source": "##Feature selection and we drop weather=Unknown\nFeature=df_usefull[['INATTENTIONIND','UNDERINFL','LIGHTCOND','ROADCOND']]\nFeature=pd.concat([Feature,pd.get_dummies(df_usefull['WEATHER'])], axis=1)\nFeature.drop([0], axis=1, inplace=True)"
        },
        {
            "cell_type": "code",
            "execution_count": 21,
            "metadata": {},
            "outputs": [],
            "source": "X=Feature\ny=df_usefull['SEVERITYCODE'].values"
        },
        {
            "cell_type": "markdown",
            "metadata": {},
            "source": "Data Normalization"
        },
        {
            "cell_type": "code",
            "execution_count": 22,
            "metadata": {},
            "outputs": [],
            "source": "from sklearn import preprocessing\nfrom sklearn.model_selection import train_test_split\nfrom sklearn.neighbors import KNeighborsClassifier\nfrom sklearn.tree import DecisionTreeClassifier\nfrom sklearn import svm\n\nX = preprocessing.StandardScaler().fit(X).transform(X)"
        },
        {
            "cell_type": "markdown",
            "metadata": {},
            "source": "Classification: we split the X into train and test to find the best K for K-means"
        },
        {
            "cell_type": "code",
            "execution_count": 25,
            "metadata": {},
            "outputs": [
                {
                    "name": "stdout",
                    "output_type": "stream",
                    "text": "Train set: (155738, 13) (155738,)\nTest set: (38935, 13) (38935,)\n"
                }
            ],
            "source": "X_train,X_test, y_train, y_test=train_test_split(X,y,test_size=0.2, random_state=4)\nprint('Train set:',X_train.shape, y_train.shape)\nprint('Test set:', X_test.shape, y_test.shape)"
        },
        {
            "cell_type": "markdown",
            "metadata": {},
            "source": "Modeling"
        },
        {
            "cell_type": "code",
            "execution_count": 26,
            "metadata": {},
            "outputs": [
                {
                    "data": {
                        "text/plain": "KNeighborsClassifier(n_neighbors=3)"
                    },
                    "execution_count": 26,
                    "metadata": {},
                    "output_type": "execute_result"
                }
            ],
            "source": "k=3\nkNN_model=KNeighborsClassifier(n_neighbors=k).fit(X_train,y_train)\nkNN_model"
        },
        {
            "cell_type": "code",
            "execution_count": 27,
            "metadata": {},
            "outputs": [
                {
                    "data": {
                        "text/plain": "array([1, 2, 2, 2, 1], dtype=int64)"
                    },
                    "execution_count": 27,
                    "metadata": {},
                    "output_type": "execute_result"
                }
            ],
            "source": "yhat= kNN_model.predict(X_test)\nyhat[0:5]"
        },
        {
            "cell_type": "markdown",
            "metadata": {},
            "source": "Best K calculation:"
        },
        {
            "cell_type": "code",
            "execution_count": 28,
            "metadata": {},
            "outputs": [
                {
                    "data": {
                        "text/plain": "array([0.61289328, 0.65028894, 0.60675485, 0.6567099 , 0.63020419,\n       0.69646847, 0.69590343, 0.69736741, 0.69140876, 0.70021831,\n       0.58631052, 0.69731604, 0.69554386, 0.70057789])"
                    },
                    "execution_count": 28,
                    "metadata": {},
                    "output_type": "execute_result"
                }
            ],
            "source": "Ks=15\nmean_acc=np.zeros((Ks-1))\nstd_acc=np.zeros((Ks-1))\nConfustionMx=[];\nfor n in range(1,Ks):\n    \n    #Train Model and Predict  \n    kNN_model = KNeighborsClassifier(n_neighbors=n).fit(X_train,y_train)\n    yhat = kNN_model.predict(X_test)\n    \n    \n    mean_acc[n-1]=np.mean(yhat==y_test);\n    \n    std_acc[n-1]=np.std(yhat==y_test)/np.sqrt(yhat.shape[0])\nmean_acc"
        },
        {
            "cell_type": "markdown",
            "metadata": {},
            "source": "I've chosen k=6"
        },
        {
            "cell_type": "code",
            "execution_count": 39,
            "metadata": {},
            "outputs": [],
            "source": "k = 7\n#Train Model and Predict  \nkNN_model = KNeighborsClassifier(n_neighbors=k).fit(X_train,y_train)\nknn_yhat = kNN_model.predict(X_test)\n "
        },
        {
            "cell_type": "markdown",
            "metadata": {},
            "source": "Decision Tree"
        },
        {
            "cell_type": "code",
            "execution_count": 33,
            "metadata": {},
            "outputs": [],
            "source": "DT_model = DecisionTreeClassifier(criterion=\"entropy\", max_depth = 6)\nDT_model.fit(X_train,y_train)\ndt_yhat = DT_model.predict(X_test)"
        },
        {
            "cell_type": "code",
            "execution_count": 34,
            "metadata": {},
            "outputs": [
                {
                    "data": {
                        "text/plain": "array([1, 1, 1, 1, 1, 1, 1, 1, 1, 1, 1, 1, 1, 1, 1], dtype=int64)"
                    },
                    "execution_count": 34,
                    "metadata": {},
                    "output_type": "execute_result"
                }
            ],
            "source": "dt_yhat[0:15]"
        },
        {
            "cell_type": "markdown",
            "metadata": {},
            "source": "Support Vector Machine"
        },
        {
            "cell_type": "code",
            "execution_count": 35,
            "metadata": {},
            "outputs": [],
            "source": "SVM_model = svm.SVC()\nSVM_model.fit(X_train, y_train) \nsvm_yhat = SVM_model.predict(X_test)"
        },
        {
            "cell_type": "code",
            "execution_count": 37,
            "metadata": {},
            "outputs": [
                {
                    "data": {
                        "text/plain": "array([1, 1, 1, 1, 1, 1, 1, 1, 1, 1, 1, 1, 1, 1, 1], dtype=int64)"
                    },
                    "execution_count": 37,
                    "metadata": {},
                    "output_type": "execute_result"
                }
            ],
            "source": "svm_yhat[0:15]\n"
        },
        {
            "cell_type": "markdown",
            "metadata": {},
            "source": "Testing all models"
        },
        {
            "cell_type": "code",
            "execution_count": 42,
            "metadata": {},
            "outputs": [
                {
                    "name": "stdout",
                    "output_type": "stream",
                    "text": "KNN Jaccard index: 0.69\nKNN F1-score: 0.60\nDT Jaccard index: 0.70\nDT F1-score: 0.58\nSVM Jaccard index: 0.70\nSVM F1-score: 0.58\n"
                }
            ],
            "source": "from sklearn import preprocessing\nfrom sklearn.metrics import jaccard_score\nfrom sklearn.metrics import f1_score\nfrom sklearn.metrics import log_loss\n\n\nprint(\"KNN Jaccard index: %.2f\" % jaccard_score(y_test, knn_yhat))\nprint(\"KNN F1-score: %.2f\" % f1_score(y_test, knn_yhat, average='weighted') )\n\nprint(\"DT Jaccard index: %.2f\" % jaccard_score(y_test,dt_yhat))\nprint(\"DT F1-score: %.2f\" % f1_score(y_test, dt_yhat, average='weighted') )\n\nprint(\"SVM Jaccard index: %.2f\" % jaccard_score(y_test,svm_yhat))\nprint(\"SVM F1-score: %.2f\" % f1_score(y_test, svm_yhat, average='weighted') )\n"
        },
        {
            "cell_type": "code",
            "execution_count": null,
            "metadata": {},
            "outputs": [],
            "source": ""
        }
    ],
    "metadata": {
        "kernelspec": {
            "display_name": "Python 3.6",
            "language": "python",
            "name": "python3"
        },
        "language_info": {
            "codemirror_mode": {
                "name": "ipython",
                "version": 3
            },
            "file_extension": ".py",
            "mimetype": "text/x-python",
            "name": "python",
            "nbconvert_exporter": "python",
            "pygments_lexer": "ipython3",
            "version": "3.6.9"
        }
    },
    "nbformat": 4,
    "nbformat_minor": 4
}